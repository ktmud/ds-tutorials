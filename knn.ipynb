{
 "cells": [
  {
   "cell_type": "code",
   "execution_count": 1,
   "metadata": {},
   "outputs": [],
   "source": [
    "%matplotlib inline\n",
    "%config InlineBackend.figure_format = 'retina'\n",
    "%load_ext autoreload\n",
    "%autoreload 2\n",
    "\n",
    "import numpy as np\n",
    "import pandas as pd\n",
    "import matplotlib.pyplot as plt"
   ]
  },
  {
   "cell_type": "markdown",
   "metadata": {},
   "source": [
    "This notebook shows how KNN works."
   ]
  },
  {
   "cell_type": "code",
   "execution_count": 2,
   "metadata": {},
   "outputs": [],
   "source": [
    "from sklearn import datasets\n",
    "\n",
    "iris = datasets.load_iris()"
   ]
  },
  {
   "cell_type": "code",
   "execution_count": 3,
   "metadata": {},
   "outputs": [],
   "source": [
    "train_idx = np.random.rand(iris.data.shape[0]) < 0.8\n",
    "test_idx = np.logical_not(train_idx)"
   ]
  },
  {
   "cell_type": "code",
   "execution_count": 4,
   "metadata": {},
   "outputs": [],
   "source": [
    "X_train, X_test = iris.data[train_idx], iris.data[test_idx]\n",
    "y_train, y_test = iris.target[train_idx], iris.target[test_idx]"
   ]
  },
  {
   "cell_type": "code",
   "execution_count": 5,
   "metadata": {},
   "outputs": [
    {
     "data": {
      "text/plain": [
       "1.0"
      ]
     },
     "execution_count": 5,
     "metadata": {},
     "output_type": "execute_result"
    }
   ],
   "source": [
    "class KNNClassifier():\n",
    "    \n",
    "    def __init__(self, k=5):\n",
    "        self.x_train = None\n",
    "        self.y_train = None\n",
    "        self.k = k\n",
    "        \n",
    "    def fit(self, X, y):\n",
    "        self.x_train = X\n",
    "        self.y_train = y\n",
    "    \n",
    "    def predict(self, X):\n",
    "        y = []\n",
    "        for row in X:\n",
    "            \n",
    "            # L2 norm, i.e., Euclidean Distance\n",
    "            dists = np.linalg.norm(row - self.x_train, axis=1)\n",
    "            # Cosine Similarity\n",
    "            # rn = np.linalg.norm(row)  # row norm\n",
    "            # dists = [row @ b / (rn * np.linalg.norm(b))\n",
    "            #        for b in self.x_train]\n",
    "            \n",
    "            # labels from the neareast neighbors\n",
    "            labels = self.y_train[np.argsort(dists)[:self.k]]\n",
    "            vals, counts = np.unique(labels, return_counts=True)\n",
    "            y.append(vals[np.argmax(counts)])\n",
    "        return y\n",
    "    \n",
    "    def score(self, X, y):\n",
    "        y_pred = self.predict(X)\n",
    "        return np.mean(y_pred == y)\n",
    "\n",
    "model = KNNClassifier()\n",
    "model.fit(X_train, y_train)\n",
    "model.score(X_test, y_test)"
   ]
  }
 ],
 "metadata": {
  "kernelspec": {
   "display_name": "Python 3",
   "language": "python",
   "name": "python3"
  },
  "language_info": {
   "codemirror_mode": {
    "name": "ipython",
    "version": 3
   },
   "file_extension": ".py",
   "mimetype": "text/x-python",
   "name": "python",
   "nbconvert_exporter": "python",
   "pygments_lexer": "ipython3",
   "version": "3.7.0"
  }
 },
 "nbformat": 4,
 "nbformat_minor": 2
}
